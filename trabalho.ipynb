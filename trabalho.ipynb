{
 "cells": [
  {
   "cell_type": "markdown",
   "metadata": {},
   "source": [
    "## <center>Trabalho Final de Regressão</center>"
   ]
  },
  {
   "cell_type": "markdown",
   "metadata": {},
   "source": [
    "<center>Nome: Jonatan Wiliam Santos de Araujo</center>"
   ]
  },
  {
   "cell_type": "markdown",
   "metadata": {},
   "source": [
    "### Pacotes úteis"
   ]
  },
  {
   "cell_type": "code",
   "execution_count": 94,
   "metadata": {
    "vscode": {
     "languageId": "r"
    }
   },
   "outputs": [],
   "source": [
    "library(hnp) # envelope simulado\n",
    "library(lmtest) # teste reset \n",
    "library(car) # teste de multicolinearidade (fatores de inflacao de variancia)\n",
    "library(tseries) # teste de Jarque-Bera"
   ]
  },
  {
   "cell_type": "markdown",
   "metadata": {},
   "source": [
    "### Coleta de dados"
   ]
  },
  {
   "cell_type": "code",
   "execution_count": 93,
   "metadata": {
    "vscode": {
     "languageId": "r"
    }
   },
   "outputs": [
    {
     "data": {
      "text/html": [
       "<table class=\"dataframe\">\n",
       "<caption>A data.frame: 6 × 8</caption>\n",
       "<thead>\n",
       "\t<tr><th></th><th scope=col>Email</th><th scope=col>Address</th><th scope=col>Avatar</th><th scope=col>Avg..Session.Length</th><th scope=col>Time.on.App</th><th scope=col>Time.on.Website</th><th scope=col>Length.of.Membership</th><th scope=col>Yearly.Amount.Spent</th></tr>\n",
       "\t<tr><th></th><th scope=col>&lt;chr&gt;</th><th scope=col>&lt;chr&gt;</th><th scope=col>&lt;chr&gt;</th><th scope=col>&lt;dbl&gt;</th><th scope=col>&lt;dbl&gt;</th><th scope=col>&lt;dbl&gt;</th><th scope=col>&lt;dbl&gt;</th><th scope=col>&lt;dbl&gt;</th></tr>\n",
       "</thead>\n",
       "<tbody>\n",
       "\t<tr><th scope=row>1</th><td>mstephenson@fernandez.com    </td><td>835 Frank Tunnel\n",
       "Wrightmouth, MI 82180-9605              </td><td>Violet          </td><td>34.49727</td><td>12.65565</td><td>39.57767</td><td>4.082621</td><td>587.9511</td></tr>\n",
       "\t<tr><th scope=row>2</th><td>hduke@hotmail.com            </td><td>4547 Archer Common\n",
       "Diazchester, CA 06566-8576            </td><td>DarkGreen       </td><td>31.92627</td><td>11.10946</td><td>37.26896</td><td>2.664034</td><td>392.2049</td></tr>\n",
       "\t<tr><th scope=row>3</th><td>pallen@yahoo.com             </td><td>24645 Valerie Unions Suite 582\n",
       "Cobbborough, DC 99414-7564</td><td>Bisque          </td><td>33.00091</td><td>11.33028</td><td>37.11060</td><td>4.104543</td><td>487.5475</td></tr>\n",
       "\t<tr><th scope=row>4</th><td>riverarebecca@gmail.com      </td><td>1414 David Throughway\n",
       "Port Jason, OH 22070-1220          </td><td>SaddleBrown     </td><td>34.30556</td><td>13.71751</td><td>36.72128</td><td>3.120179</td><td>581.8523</td></tr>\n",
       "\t<tr><th scope=row>5</th><td>mstephens@davidson-herman.com</td><td>14023 Rodriguez Passage\n",
       "Port Jacobville, PR 37242-1057   </td><td>MediumAquaMarine</td><td>33.33067</td><td>12.79519</td><td>37.53665</td><td>4.446308</td><td>599.4061</td></tr>\n",
       "\t<tr><th scope=row>6</th><td>alvareznancy@lucas.biz       </td><td>645 Martha Park Apt. 611\n",
       "Jeffreychester, MN 67218-7250   </td><td>FloralWhite     </td><td>33.87104</td><td>12.02693</td><td>34.47688</td><td>5.493507</td><td>637.1024</td></tr>\n",
       "</tbody>\n",
       "</table>\n"
      ],
      "text/latex": [
       "A data.frame: 6 × 8\n",
       "\\begin{tabular}{r|llllllll}\n",
       "  & Email & Address & Avatar & Avg..Session.Length & Time.on.App & Time.on.Website & Length.of.Membership & Yearly.Amount.Spent\\\\\n",
       "  & <chr> & <chr> & <chr> & <dbl> & <dbl> & <dbl> & <dbl> & <dbl>\\\\\n",
       "\\hline\n",
       "\t1 & mstephenson@fernandez.com     & 835 Frank Tunnel\n",
       "Wrightmouth, MI 82180-9605               & Violet           & 34.49727 & 12.65565 & 39.57767 & 4.082621 & 587.9511\\\\\n",
       "\t2 & hduke@hotmail.com             & 4547 Archer Common\n",
       "Diazchester, CA 06566-8576             & DarkGreen        & 31.92627 & 11.10946 & 37.26896 & 2.664034 & 392.2049\\\\\n",
       "\t3 & pallen@yahoo.com              & 24645 Valerie Unions Suite 582\n",
       "Cobbborough, DC 99414-7564 & Bisque           & 33.00091 & 11.33028 & 37.11060 & 4.104543 & 487.5475\\\\\n",
       "\t4 & riverarebecca@gmail.com       & 1414 David Throughway\n",
       "Port Jason, OH 22070-1220           & SaddleBrown      & 34.30556 & 13.71751 & 36.72128 & 3.120179 & 581.8523\\\\\n",
       "\t5 & mstephens@davidson-herman.com & 14023 Rodriguez Passage\n",
       "Port Jacobville, PR 37242-1057    & MediumAquaMarine & 33.33067 & 12.79519 & 37.53665 & 4.446308 & 599.4061\\\\\n",
       "\t6 & alvareznancy@lucas.biz        & 645 Martha Park Apt. 611\n",
       "Jeffreychester, MN 67218-7250    & FloralWhite      & 33.87104 & 12.02693 & 34.47688 & 5.493507 & 637.1024\\\\\n",
       "\\end{tabular}\n"
      ],
      "text/markdown": [
       "\n",
       "A data.frame: 6 × 8\n",
       "\n",
       "| <!--/--> | Email &lt;chr&gt; | Address &lt;chr&gt; | Avatar &lt;chr&gt; | Avg..Session.Length &lt;dbl&gt; | Time.on.App &lt;dbl&gt; | Time.on.Website &lt;dbl&gt; | Length.of.Membership &lt;dbl&gt; | Yearly.Amount.Spent &lt;dbl&gt; |\n",
       "|---|---|---|---|---|---|---|---|---|\n",
       "| 1 | mstephenson@fernandez.com     | 835 Frank Tunnel\n",
       "Wrightmouth, MI 82180-9605               | Violet           | 34.49727 | 12.65565 | 39.57767 | 4.082621 | 587.9511 |\n",
       "| 2 | hduke@hotmail.com             | 4547 Archer Common\n",
       "Diazchester, CA 06566-8576             | DarkGreen        | 31.92627 | 11.10946 | 37.26896 | 2.664034 | 392.2049 |\n",
       "| 3 | pallen@yahoo.com              | 24645 Valerie Unions Suite 582\n",
       "Cobbborough, DC 99414-7564 | Bisque           | 33.00091 | 11.33028 | 37.11060 | 4.104543 | 487.5475 |\n",
       "| 4 | riverarebecca@gmail.com       | 1414 David Throughway\n",
       "Port Jason, OH 22070-1220           | SaddleBrown      | 34.30556 | 13.71751 | 36.72128 | 3.120179 | 581.8523 |\n",
       "| 5 | mstephens@davidson-herman.com | 14023 Rodriguez Passage\n",
       "Port Jacobville, PR 37242-1057    | MediumAquaMarine | 33.33067 | 12.79519 | 37.53665 | 4.446308 | 599.4061 |\n",
       "| 6 | alvareznancy@lucas.biz        | 645 Martha Park Apt. 611\n",
       "Jeffreychester, MN 67218-7250    | FloralWhite      | 33.87104 | 12.02693 | 34.47688 | 5.493507 | 637.1024 |\n",
       "\n"
      ],
      "text/plain": [
       "  Email                         Address                                                    Avatar           Avg..Session.Length Time.on.App Time.on.Website Length.of.Membership Yearly.Amount.Spent\n",
       "1 mstephenson@fernandez.com     835 Frank Tunnel\\nWrightmouth, MI 82180-9605               Violet           34.49727            12.65565    39.57767        4.082621             587.9511           \n",
       "2 hduke@hotmail.com             4547 Archer Common\\nDiazchester, CA 06566-8576             DarkGreen        31.92627            11.10946    37.26896        2.664034             392.2049           \n",
       "3 pallen@yahoo.com              24645 Valerie Unions Suite 582\\nCobbborough, DC 99414-7564 Bisque           33.00091            11.33028    37.11060        4.104543             487.5475           \n",
       "4 riverarebecca@gmail.com       1414 David Throughway\\nPort Jason, OH 22070-1220           SaddleBrown      34.30556            13.71751    36.72128        3.120179             581.8523           \n",
       "5 mstephens@davidson-herman.com 14023 Rodriguez Passage\\nPort Jacobville, PR 37242-1057    MediumAquaMarine 33.33067            12.79519    37.53665        4.446308             599.4061           \n",
       "6 alvareznancy@lucas.biz        645 Martha Park Apt. 611\\nJeffreychester, MN 67218-7250    FloralWhite      33.87104            12.02693    34.47688        5.493507             637.1024           "
      ]
     },
     "metadata": {},
     "output_type": "display_data"
    }
   ],
   "source": [
    "dados <- read.csv(\"dados/Ecommerce Customers.csv\")\n",
    "head(dados)"
   ]
  },
  {
   "cell_type": "code",
   "execution_count": 40,
   "metadata": {
    "vscode": {
     "languageId": "r"
    }
   },
   "outputs": [
    {
     "data": {
      "text/html": [
       "<table class=\"dataframe\">\n",
       "<caption>A data.frame: 6 × 8</caption>\n",
       "<thead>\n",
       "\t<tr><th></th><th scope=col>Email</th><th scope=col>Address</th><th scope=col>Avatar</th><th scope=col>Avg..Session.Length</th><th scope=col>Time.on.App</th><th scope=col>Time.on.Website</th><th scope=col>Length.of.Membership</th><th scope=col>Yearly.Amount.Spent</th></tr>\n",
       "\t<tr><th></th><th scope=col>&lt;chr&gt;</th><th scope=col>&lt;chr&gt;</th><th scope=col>&lt;chr&gt;</th><th scope=col>&lt;dbl&gt;</th><th scope=col>&lt;dbl&gt;</th><th scope=col>&lt;dbl&gt;</th><th scope=col>&lt;dbl&gt;</th><th scope=col>&lt;dbl&gt;</th></tr>\n",
       "</thead>\n",
       "<tbody>\n",
       "\t<tr><th scope=row>495</th><td>kellydeborah@chan.biz       </td><td>354 Sanchez Wall Suite 884\n",
       "Juliabury, VI 39735               </td><td>DarkTurquoise</td><td>33.43110</td><td>13.35063</td><td>37.96597</td><td>2.768852</td><td>510.6618</td></tr>\n",
       "\t<tr><th scope=row>496</th><td>lewisjessica@craig-evans.com</td><td>4483 Jones Motorway Suite 872\n",
       "Lake Jamiefurt, UT 75292       </td><td>Tan          </td><td>33.23766</td><td>13.56616</td><td>36.41798</td><td>3.746573</td><td>573.8474</td></tr>\n",
       "\t<tr><th scope=row>497</th><td>katrina56@gmail.com         </td><td>172 Owen Divide Suite 497\n",
       "West Richard, CA 19320             </td><td>PaleVioletRed</td><td>34.70253</td><td>11.69574</td><td>37.19027</td><td>3.576526</td><td>529.0490</td></tr>\n",
       "\t<tr><th scope=row>498</th><td>dale88@hotmail.com          </td><td>0787 Andrews Ranch Apt. 633\n",
       "South Chadburgh, TN 56128        </td><td>Cornsilk     </td><td>32.64678</td><td>11.49941</td><td>38.33258</td><td>4.958264</td><td>551.6201</td></tr>\n",
       "\t<tr><th scope=row>499</th><td>cwilson@hotmail.com         </td><td>680 Jennifer Lodge Apt. 808\n",
       "Brendachester, TX 05000-5873     </td><td>Teal         </td><td>33.32250</td><td>12.39142</td><td>36.84009</td><td>2.336485</td><td>456.4695</td></tr>\n",
       "\t<tr><th scope=row>500</th><td>hannahwilson@davidson.com   </td><td>49791 Rachel Heights Apt. 898\n",
       "East Drewborough, OR 55919-9528</td><td>DarkMagenta  </td><td>33.71598</td><td>12.41881</td><td>35.77102</td><td>2.735160</td><td>497.7786</td></tr>\n",
       "</tbody>\n",
       "</table>\n"
      ],
      "text/latex": [
       "A data.frame: 6 × 8\n",
       "\\begin{tabular}{r|llllllll}\n",
       "  & Email & Address & Avatar & Avg..Session.Length & Time.on.App & Time.on.Website & Length.of.Membership & Yearly.Amount.Spent\\\\\n",
       "  & <chr> & <chr> & <chr> & <dbl> & <dbl> & <dbl> & <dbl> & <dbl>\\\\\n",
       "\\hline\n",
       "\t495 & kellydeborah@chan.biz        & 354 Sanchez Wall Suite 884\n",
       "Juliabury, VI 39735                & DarkTurquoise & 33.43110 & 13.35063 & 37.96597 & 2.768852 & 510.6618\\\\\n",
       "\t496 & lewisjessica@craig-evans.com & 4483 Jones Motorway Suite 872\n",
       "Lake Jamiefurt, UT 75292        & Tan           & 33.23766 & 13.56616 & 36.41798 & 3.746573 & 573.8474\\\\\n",
       "\t497 & katrina56@gmail.com          & 172 Owen Divide Suite 497\n",
       "West Richard, CA 19320              & PaleVioletRed & 34.70253 & 11.69574 & 37.19027 & 3.576526 & 529.0490\\\\\n",
       "\t498 & dale88@hotmail.com           & 0787 Andrews Ranch Apt. 633\n",
       "South Chadburgh, TN 56128         & Cornsilk      & 32.64678 & 11.49941 & 38.33258 & 4.958264 & 551.6201\\\\\n",
       "\t499 & cwilson@hotmail.com          & 680 Jennifer Lodge Apt. 808\n",
       "Brendachester, TX 05000-5873      & Teal          & 33.32250 & 12.39142 & 36.84009 & 2.336485 & 456.4695\\\\\n",
       "\t500 & hannahwilson@davidson.com    & 49791 Rachel Heights Apt. 898\n",
       "East Drewborough, OR 55919-9528 & DarkMagenta   & 33.71598 & 12.41881 & 35.77102 & 2.735160 & 497.7786\\\\\n",
       "\\end{tabular}\n"
      ],
      "text/markdown": [
       "\n",
       "A data.frame: 6 × 8\n",
       "\n",
       "| <!--/--> | Email &lt;chr&gt; | Address &lt;chr&gt; | Avatar &lt;chr&gt; | Avg..Session.Length &lt;dbl&gt; | Time.on.App &lt;dbl&gt; | Time.on.Website &lt;dbl&gt; | Length.of.Membership &lt;dbl&gt; | Yearly.Amount.Spent &lt;dbl&gt; |\n",
       "|---|---|---|---|---|---|---|---|---|\n",
       "| 495 | kellydeborah@chan.biz        | 354 Sanchez Wall Suite 884\n",
       "Juliabury, VI 39735                | DarkTurquoise | 33.43110 | 13.35063 | 37.96597 | 2.768852 | 510.6618 |\n",
       "| 496 | lewisjessica@craig-evans.com | 4483 Jones Motorway Suite 872\n",
       "Lake Jamiefurt, UT 75292        | Tan           | 33.23766 | 13.56616 | 36.41798 | 3.746573 | 573.8474 |\n",
       "| 497 | katrina56@gmail.com          | 172 Owen Divide Suite 497\n",
       "West Richard, CA 19320              | PaleVioletRed | 34.70253 | 11.69574 | 37.19027 | 3.576526 | 529.0490 |\n",
       "| 498 | dale88@hotmail.com           | 0787 Andrews Ranch Apt. 633\n",
       "South Chadburgh, TN 56128         | Cornsilk      | 32.64678 | 11.49941 | 38.33258 | 4.958264 | 551.6201 |\n",
       "| 499 | cwilson@hotmail.com          | 680 Jennifer Lodge Apt. 808\n",
       "Brendachester, TX 05000-5873      | Teal          | 33.32250 | 12.39142 | 36.84009 | 2.336485 | 456.4695 |\n",
       "| 500 | hannahwilson@davidson.com    | 49791 Rachel Heights Apt. 898\n",
       "East Drewborough, OR 55919-9528 | DarkMagenta   | 33.71598 | 12.41881 | 35.77102 | 2.735160 | 497.7786 |\n",
       "\n"
      ],
      "text/plain": [
       "    Email                       \n",
       "495 kellydeborah@chan.biz       \n",
       "496 lewisjessica@craig-evans.com\n",
       "497 katrina56@gmail.com         \n",
       "498 dale88@hotmail.com          \n",
       "499 cwilson@hotmail.com         \n",
       "500 hannahwilson@davidson.com   \n",
       "    Address                                                       \n",
       "495 354 Sanchez Wall Suite 884\\nJuliabury, VI 39735               \n",
       "496 4483 Jones Motorway Suite 872\\nLake Jamiefurt, UT 75292       \n",
       "497 172 Owen Divide Suite 497\\nWest Richard, CA 19320             \n",
       "498 0787 Andrews Ranch Apt. 633\\nSouth Chadburgh, TN 56128        \n",
       "499 680 Jennifer Lodge Apt. 808\\nBrendachester, TX 05000-5873     \n",
       "500 49791 Rachel Heights Apt. 898\\nEast Drewborough, OR 55919-9528\n",
       "    Avatar        Avg..Session.Length Time.on.App Time.on.Website\n",
       "495 DarkTurquoise 33.43110            13.35063    37.96597       \n",
       "496 Tan           33.23766            13.56616    36.41798       \n",
       "497 PaleVioletRed 34.70253            11.69574    37.19027       \n",
       "498 Cornsilk      32.64678            11.49941    38.33258       \n",
       "499 Teal          33.32250            12.39142    36.84009       \n",
       "500 DarkMagenta   33.71598            12.41881    35.77102       \n",
       "    Length.of.Membership Yearly.Amount.Spent\n",
       "495 2.768852             510.6618           \n",
       "496 3.746573             573.8474           \n",
       "497 3.576526             529.0490           \n",
       "498 4.958264             551.6201           \n",
       "499 2.336485             456.4695           \n",
       "500 2.735160             497.7786           "
      ]
     },
     "metadata": {},
     "output_type": "display_data"
    }
   ],
   "source": [
    "tail(dados)"
   ]
  },
  {
   "cell_type": "code",
   "execution_count": 84,
   "metadata": {
    "vscode": {
     "languageId": "r"
    }
   },
   "outputs": [
    {
     "data": {
      "text/html": [
       "0"
      ],
      "text/latex": [
       "0"
      ],
      "text/markdown": [
       "0"
      ],
      "text/plain": [
       "[1] 0"
      ]
     },
     "metadata": {},
     "output_type": "display_data"
    }
   ],
   "source": [
    "sum(is.na(dados))"
   ]
  },
  {
   "cell_type": "markdown",
   "metadata": {},
   "source": [
    "### Análise descritiva"
   ]
  },
  {
   "cell_type": "markdown",
   "metadata": {},
   "source": [
    "- Variáveis:\n",
    "\n",
    "    - **Email** (Email dos clientes do ecommerce);\n",
    "    - **Address** (Endereço do cliente);\n",
    "    - **Avatar** (Avatar do usuário, a imagem do avatar do cliente);\n",
    "    - **Avg. Session Length** (Duração Média da Sessão do cliente no site);\n",
    "    - **Time on App** (Tempo do cliente no aplicativo);\n",
    "    - **Time on Website** (Tempo do cliente no Website);\n",
    "    - **Length of Membership** (Tempo do cliente como membro em anos);\n",
    "    - **Yearly Amount Spent** (Valor anual gasto em dólar pelo cliente)."
   ]
  },
  {
   "cell_type": "markdown",
   "metadata": {},
   "source": [
    "- A variável resposta/endógena/dependente escolhida é a do valor anual gasto pelo cliente"
   ]
  },
  {
   "cell_type": "markdown",
   "metadata": {
    "vscode": {
     "languageId": "r"
    }
   },
   "source": [
    "- O objetivo é determinar o quanto um consumidor típico gasta em média e se aqueles que gastam mais são os que utilizam o site de e-commerce com mais frequência, o aplicativo, ou se o tempo de associação ao serviço influencia no volume de gastos."
   ]
  },
  {
   "cell_type": "code",
   "execution_count": 41,
   "metadata": {
    "vscode": {
     "languageId": "r"
    }
   },
   "outputs": [
    {
     "data": {
      "text/plain": [
       "    Email             Address             Avatar          Avg..Session.Length\n",
       " Length:500         Length:500         Length:500         Min.   :29.53      \n",
       " Class :character   Class :character   Class :character   1st Qu.:32.34      \n",
       " Mode  :character   Mode  :character   Mode  :character   Median :33.08      \n",
       "                                                          Mean   :33.05      \n",
       "                                                          3rd Qu.:33.71      \n",
       "                                                          Max.   :36.14      \n",
       "  Time.on.App     Time.on.Website Length.of.Membership Yearly.Amount.Spent\n",
       " Min.   : 8.508   Min.   :33.91   Min.   :0.2699       Min.   :256.7      \n",
       " 1st Qu.:11.388   1st Qu.:36.35   1st Qu.:2.9304       1st Qu.:445.0      \n",
       " Median :11.983   Median :37.07   Median :3.5340       Median :498.9      \n",
       " Mean   :12.052   Mean   :37.06   Mean   :3.5335       Mean   :499.3      \n",
       " 3rd Qu.:12.754   3rd Qu.:37.72   3rd Qu.:4.1265       3rd Qu.:549.3      \n",
       " Max.   :15.127   Max.   :40.01   Max.   :6.9227       Max.   :765.5      "
      ]
     },
     "metadata": {},
     "output_type": "display_data"
    }
   ],
   "source": [
    "summary(dados)"
   ]
  },
  {
   "cell_type": "code",
   "execution_count": 42,
   "metadata": {
    "vscode": {
     "languageId": "r"
    }
   },
   "outputs": [
    {
     "name": "stdout",
     "output_type": "stream",
     "text": [
      "'data.frame':\t500 obs. of  8 variables:\n",
      " $ Email               : chr  \"mstephenson@fernandez.com\" \"hduke@hotmail.com\" \"pallen@yahoo.com\" \"riverarebecca@gmail.com\" ...\n",
      " $ Address             : chr  \"835 Frank Tunnel\\nWrightmouth, MI 82180-9605\" \"4547 Archer Common\\nDiazchester, CA 06566-8576\" \"24645 Valerie Unions Suite 582\\nCobbborough, DC 99414-7564\" \"1414 David Throughway\\nPort Jason, OH 22070-1220\" ...\n",
      " $ Avatar              : chr  \"Violet\" \"DarkGreen\" \"Bisque\" \"SaddleBrown\" ...\n",
      " $ Avg..Session.Length : num  34.5 31.9 33 34.3 33.3 ...\n",
      " $ Time.on.App         : num  12.7 11.1 11.3 13.7 12.8 ...\n",
      " $ Time.on.Website     : num  39.6 37.3 37.1 36.7 37.5 ...\n",
      " $ Length.of.Membership: num  4.08 2.66 4.1 3.12 4.45 ...\n",
      " $ Yearly.Amount.Spent : num  588 392 488 582 599 ...\n"
     ]
    }
   ],
   "source": [
    "str(dados)"
   ]
  },
  {
   "cell_type": "code",
   "execution_count": 43,
   "metadata": {
    "vscode": {
     "languageId": "r"
    }
   },
   "outputs": [],
   "source": [
    "dados_numericos <- dados[sapply(dados, is.numeric)] "
   ]
  },
  {
   "cell_type": "code",
   "execution_count": 44,
   "metadata": {
    "vscode": {
     "languageId": "r"
    }
   },
   "outputs": [
    {
     "data": {
      "text/html": [
       "<table class=\"dataframe\">\n",
       "<caption>A matrix: 5 × 5 of type dbl</caption>\n",
       "<thead>\n",
       "\t<tr><th></th><th scope=col>Avg..Session.Length</th><th scope=col>Time.on.App</th><th scope=col>Time.on.Website</th><th scope=col>Length.of.Membership</th><th scope=col>Yearly.Amount.Spent</th></tr>\n",
       "</thead>\n",
       "<tbody>\n",
       "\t<tr><th scope=row>Avg..Session.Length</th><td> 1.00000000</td><td>-0.02782598</td><td>-0.034986900</td><td> 0.06024739</td><td> 0.355088295</td></tr>\n",
       "\t<tr><th scope=row>Time.on.App</th><td>-0.02782598</td><td> 1.00000000</td><td> 0.082388273</td><td> 0.02914256</td><td> 0.499327770</td></tr>\n",
       "\t<tr><th scope=row>Time.on.Website</th><td>-0.03498690</td><td> 0.08238827</td><td> 1.000000000</td><td>-0.04758182</td><td>-0.002640845</td></tr>\n",
       "\t<tr><th scope=row>Length.of.Membership</th><td> 0.06024739</td><td> 0.02914256</td><td>-0.047581819</td><td> 1.00000000</td><td> 0.809083568</td></tr>\n",
       "\t<tr><th scope=row>Yearly.Amount.Spent</th><td> 0.35508829</td><td> 0.49932777</td><td>-0.002640845</td><td> 0.80908357</td><td> 1.000000000</td></tr>\n",
       "</tbody>\n",
       "</table>\n"
      ],
      "text/latex": [
       "A matrix: 5 × 5 of type dbl\n",
       "\\begin{tabular}{r|lllll}\n",
       "  & Avg..Session.Length & Time.on.App & Time.on.Website & Length.of.Membership & Yearly.Amount.Spent\\\\\n",
       "\\hline\n",
       "\tAvg..Session.Length &  1.00000000 & -0.02782598 & -0.034986900 &  0.06024739 &  0.355088295\\\\\n",
       "\tTime.on.App & -0.02782598 &  1.00000000 &  0.082388273 &  0.02914256 &  0.499327770\\\\\n",
       "\tTime.on.Website & -0.03498690 &  0.08238827 &  1.000000000 & -0.04758182 & -0.002640845\\\\\n",
       "\tLength.of.Membership &  0.06024739 &  0.02914256 & -0.047581819 &  1.00000000 &  0.809083568\\\\\n",
       "\tYearly.Amount.Spent &  0.35508829 &  0.49932777 & -0.002640845 &  0.80908357 &  1.000000000\\\\\n",
       "\\end{tabular}\n"
      ],
      "text/markdown": [
       "\n",
       "A matrix: 5 × 5 of type dbl\n",
       "\n",
       "| <!--/--> | Avg..Session.Length | Time.on.App | Time.on.Website | Length.of.Membership | Yearly.Amount.Spent |\n",
       "|---|---|---|---|---|---|\n",
       "| Avg..Session.Length |  1.00000000 | -0.02782598 | -0.034986900 |  0.06024739 |  0.355088295 |\n",
       "| Time.on.App | -0.02782598 |  1.00000000 |  0.082388273 |  0.02914256 |  0.499327770 |\n",
       "| Time.on.Website | -0.03498690 |  0.08238827 |  1.000000000 | -0.04758182 | -0.002640845 |\n",
       "| Length.of.Membership |  0.06024739 |  0.02914256 | -0.047581819 |  1.00000000 |  0.809083568 |\n",
       "| Yearly.Amount.Spent |  0.35508829 |  0.49932777 | -0.002640845 |  0.80908357 |  1.000000000 |\n",
       "\n"
      ],
      "text/plain": [
       "                     Avg..Session.Length Time.on.App Time.on.Website\n",
       "Avg..Session.Length   1.00000000         -0.02782598 -0.034986900   \n",
       "Time.on.App          -0.02782598          1.00000000  0.082388273   \n",
       "Time.on.Website      -0.03498690          0.08238827  1.000000000   \n",
       "Length.of.Membership  0.06024739          0.02914256 -0.047581819   \n",
       "Yearly.Amount.Spent   0.35508829          0.49932777 -0.002640845   \n",
       "                     Length.of.Membership Yearly.Amount.Spent\n",
       "Avg..Session.Length   0.06024739           0.355088295       \n",
       "Time.on.App           0.02914256           0.499327770       \n",
       "Time.on.Website      -0.04758182          -0.002640845       \n",
       "Length.of.Membership  1.00000000           0.809083568       \n",
       "Yearly.Amount.Spent   0.80908357           1.000000000       "
      ]
     },
     "metadata": {},
     "output_type": "display_data"
    }
   ],
   "source": [
    "cor(dados_numericos)"
   ]
  },
  {
   "cell_type": "markdown",
   "metadata": {},
   "source": [
    "- Podemos observar uma possível multicolinearidade entre as covariáveis \"tempo no app\" e \"tempo no site\".\n",
    "- Observamos uma forte correlação positiva entre o gasto anual do consumidor e o tempo que ele é membro do e-commerce."
   ]
  },
  {
   "cell_type": "code",
   "execution_count": 45,
   "metadata": {
    "vscode": {
     "languageId": "r"
    }
   },
   "outputs": [
    {
     "data": {
      "image/png": "[encoded data removed]",
      "text/plain": [
       "plot without title"
      ]
     },
     "metadata": {
      "image/png": {
       "height": 420,
       "width": 420
      }
     },
     "output_type": "display_data"
    }
   ],
   "source": [
    "plot(dados)"
   ]
  },
  {
   "cell_type": "markdown",
   "metadata": {},
   "source": [
    "### Ajustando o modelo"
   ]
  },
  {
   "cell_type": "code",
   "execution_count": 46,
   "metadata": {
    "vscode": {
     "languageId": "r"
    }
   },
   "outputs": [],
   "source": [
    "fit <- lm(Yearly.Amount.Spent~Avg..Session.Length+Time.on.App+Time.on.Website+Length.of.Membership,data=dados)"
   ]
  },
  {
   "cell_type": "code",
   "execution_count": 47,
   "metadata": {
    "vscode": {
     "languageId": "r"
    }
   },
   "outputs": [
    {
     "data": {
      "text/plain": [
       "\n",
       "Call:\n",
       "lm(formula = Yearly.Amount.Spent ~ Avg..Session.Length + Time.on.App + \n",
       "    Time.on.Website + Length.of.Membership, data = dados)\n",
       "\n",
       "Residuals:\n",
       "     Min       1Q   Median       3Q      Max \n",
       "-30.4059  -6.2191  -0.1364   6.6048  30.3085 \n",
       "\n",
       "Coefficients:\n",
       "                       Estimate Std. Error t value Pr(>|t|)    \n",
       "(Intercept)          -1051.5943    22.9925 -45.736   <2e-16 ***\n",
       "Avg..Session.Length     25.7343     0.4510  57.057   <2e-16 ***\n",
       "Time.on.App             38.7092     0.4510  85.828   <2e-16 ***\n",
       "Time.on.Website          0.4367     0.4441   0.983    0.326    \n",
       "Length.of.Membership    61.5773     0.4483 137.346   <2e-16 ***\n",
       "---\n",
       "Signif. codes:  0 '***' 0.001 '**' 0.01 '*' 0.05 '.' 0.1 ' ' 1\n",
       "\n",
       "Residual standard error: 9.973 on 495 degrees of freedom\n",
       "Multiple R-squared:  0.9843,\tAdjusted R-squared:  0.9842 \n",
       "F-statistic:  7766 on 4 and 495 DF,  p-value: < 2.2e-16\n"
      ]
     },
     "metadata": {},
     "output_type": "display_data"
    }
   ],
   "source": [
    "summary(fit)"
   ]
  },
  {
   "cell_type": "markdown",
   "metadata": {},
   "source": [
    "- Pelo p-valor dos testes T podemos ver que seria só a covariável tempo no site com parâmetro associado à covariável igual a zero (não significativa).\n",
    "- Porém não convém fazer essa análise antes de se fazer a checagem do modelo."
   ]
  },
  {
   "cell_type": "markdown",
   "metadata": {},
   "source": [
    "Modelo o step(.) sugeriria:"
   ]
  },
  {
   "cell_type": "code",
   "execution_count": 48,
   "metadata": {
    "vscode": {
     "languageId": "r"
    }
   },
   "outputs": [
    {
     "name": "stdout",
     "output_type": "stream",
     "text": [
      "Start:  AIC=2304.88\n",
      "Yearly.Amount.Spent ~ Avg..Session.Length + Time.on.App + Time.on.Website + \n",
      "    Length.of.Membership\n",
      "\n",
      "                       Df Sum of Sq     RSS    AIC\n",
      "- Time.on.Website       1        96   49332 2303.9\n",
      "<none>                                49236 2304.9\n",
      "- Avg..Session.Length   1    323812  373047 3315.4\n",
      "- Time.on.App           1    732713  781948 3685.5\n",
      "- Length.of.Membership  1   1876320 1925555 4136.1\n",
      "\n",
      "Step:  AIC=2303.86\n",
      "Yearly.Amount.Spent ~ Avg..Session.Length + Time.on.App + Length.of.Membership\n",
      "\n",
      "                       Df Sum of Sq     RSS    AIC\n",
      "<none>                                49332 2303.9\n",
      "- Avg..Session.Length   1    323767  373099 3313.5\n",
      "- Time.on.App           1    739204  788535 3687.7\n",
      "- Length.of.Membership  1   1879405 1928736 4134.9\n"
     ]
    },
    {
     "data": {
      "text/plain": [
       "\n",
       "Call:\n",
       "lm(formula = Yearly.Amount.Spent ~ Avg..Session.Length + Time.on.App + \n",
       "    Length.of.Membership, data = dados)\n",
       "\n",
       "Coefficients:\n",
       "         (Intercept)   Avg..Session.Length           Time.on.App  \n",
       "            -1035.34                 25.72                 38.75  \n",
       "Length.of.Membership  \n",
       "               61.56  \n"
      ]
     },
     "metadata": {},
     "output_type": "display_data"
    }
   ],
   "source": [
    "step(fit)"
   ]
  },
  {
   "cell_type": "markdown",
   "metadata": {},
   "source": [
    "A função considerou a duração média da seção do cliente, tempo no app e tempo como membro no modelo e retirou o tempo no site."
   ]
  },
  {
   "cell_type": "code",
   "execution_count": 49,
   "metadata": {
    "vscode": {
     "languageId": "r"
    }
   },
   "outputs": [],
   "source": [
    "# ajustando o modelo sugerido\n",
    "fit <- lm(Yearly.Amount.Spent~Avg..Session.Length+Time.on.App+Length.of.Membership,data=dados)"
   ]
  },
  {
   "cell_type": "code",
   "execution_count": 50,
   "metadata": {
    "vscode": {
     "languageId": "r"
    }
   },
   "outputs": [
    {
     "data": {
      "text/plain": [
       "\n",
       "Call:\n",
       "lm(formula = Yearly.Amount.Spent ~ Avg..Session.Length + Time.on.App + \n",
       "    Length.of.Membership, data = dados)\n",
       "\n",
       "Residuals:\n",
       "    Min      1Q  Median      3Q     Max \n",
       "-29.628  -6.378  -0.135   6.351  30.169 \n",
       "\n",
       "Coefficients:\n",
       "                       Estimate Std. Error t value Pr(>|t|)    \n",
       "(Intercept)          -1035.3396    15.9829  -64.78   <2e-16 ***\n",
       "Avg..Session.Length     25.7210     0.4508   57.05   <2e-16 ***\n",
       "Time.on.App             38.7460     0.4494   86.21   <2e-16 ***\n",
       "Length.of.Membership    61.5560     0.4478  137.46   <2e-16 ***\n",
       "---\n",
       "Signif. codes:  0 '***' 0.001 '**' 0.01 '*' 0.05 '.' 0.1 ' ' 1\n",
       "\n",
       "Residual standard error: 9.973 on 496 degrees of freedom\n",
       "Multiple R-squared:  0.9843,\tAdjusted R-squared:  0.9842 \n",
       "F-statistic: 1.036e+04 on 3 and 496 DF,  p-value: < 2.2e-16\n"
      ]
     },
     "metadata": {},
     "output_type": "display_data"
    }
   ],
   "source": [
    "summary(fit)"
   ]
  },
  {
   "cell_type": "markdown",
   "metadata": {
    "vscode": {
     "languageId": "r"
    }
   },
   "source": [
    "O R ajustado (critério de seleção) foi praticamente o mesmo, então tempo não faz diferença no modelo.\n",
    "Mas vale lembrar que antes dessa análise se faz necessário os testes das suposições.  "
   ]
  },
  {
   "cell_type": "markdown",
   "metadata": {},
   "source": [
    "### Análise de influência"
   ]
  },
  {
   "cell_type": "code",
   "execution_count": 51,
   "metadata": {
    "vscode": {
     "languageId": "r"
    }
   },
   "outputs": [],
   "source": [
    "n <- dim(dados)[1] # tamanho da amostra"
   ]
  },
  {
   "cell_type": "code",
   "execution_count": null,
   "metadata": {
    "vscode": {
     "languageId": "r"
    }
   },
   "outputs": [],
   "source": [
    "influence.measures(fit)"
   ]
  },
  {
   "cell_type": "code",
   "execution_count": null,
   "metadata": {
    "vscode": {
     "languageId": "r"
    }
   },
   "outputs": [],
   "source": [
    "# alavancagem\n",
    "hatvalues(fit)"
   ]
  },
  {
   "cell_type": "code",
   "execution_count": 54,
   "metadata": {
    "vscode": {
     "languageId": "r"
    }
   },
   "outputs": [],
   "source": [
    "h_bar <- fit$rank / n"
   ]
  },
  {
   "cell_type": "code",
   "execution_count": 55,
   "metadata": {
    "vscode": {
     "languageId": "r"
    }
   },
   "outputs": [],
   "source": [
    "limite  <- 2*h_bar"
   ]
  },
  {
   "cell_type": "code",
   "execution_count": 56,
   "metadata": {
    "vscode": {
     "languageId": "r"
    }
   },
   "outputs": [
    {
     "data": {
      "image/png": "[encoded data removed]",
      "text/plain": [
       "plot without title"
      ]
     },
     "metadata": {
      "image/png": {
       "height": 420,
       "width": 420
      }
     },
     "output_type": "display_data"
    }
   ],
   "source": [
    "abline(plot(hatvalues(fit),ylab=\"Alavancagem\"),\n",
    "       col='red', h=limite, lty=2)"
   ]
  },
  {
   "cell_type": "code",
   "execution_count": null,
   "metadata": {
    "vscode": {
     "languageId": "r"
    }
   },
   "outputs": [],
   "source": [
    "# DFFIT (o que cada observação influencia no y chapéu)\n",
    "dffits(fit)"
   ]
  },
  {
   "cell_type": "code",
   "execution_count": 58,
   "metadata": {
    "vscode": {
     "languageId": "r"
    }
   },
   "outputs": [],
   "source": [
    "limite <- 2*sqrt(fit$rank / n)"
   ]
  },
  {
   "cell_type": "code",
   "execution_count": 59,
   "metadata": {
    "vscode": {
     "languageId": "r"
    }
   },
   "outputs": [
    {
     "data": {
      "image/png": "[encoded data removed]",
      "text/plain": [
       "plot without title"
      ]
     },
     "metadata": {
      "image/png": {
       "height": 420,
       "width": 420
      }
     },
     "output_type": "display_data"
    }
   ],
   "source": [
    "abline(plot(dffits(fit), ylab='DFFITS'),\n",
    "       col='red', h=c(-limite, limite), lty=2)"
   ]
  },
  {
   "cell_type": "code",
   "execution_count": null,
   "metadata": {
    "vscode": {
     "languageId": "r"
    }
   },
   "outputs": [],
   "source": [
    "# DFBETA\n",
    "dfbetas(fit)\n",
    "\n",
    "dfb1 <- dfbetas(fit)[,1]\n",
    "dfb2 <- dfbetas(fit)[,2]\n",
    "dfb3 <- dfbetas(fit)[,3]"
   ]
  },
  {
   "cell_type": "code",
   "execution_count": 61,
   "metadata": {
    "vscode": {
     "languageId": "r"
    }
   },
   "outputs": [
    {
     "data": {
      "image/png": "[encoded data removed]",
      "text/plain": [
       "plot without title"
      ]
     },
     "metadata": {
      "image/png": {
       "height": 420,
       "width": 420
      }
     },
     "output_type": "display_data"
    }
   ],
   "source": [
    "limite <- 2/sqrt(n)\n",
    "abline(plot(dfb1,ylab=\"DFBETA 1\"),\n",
    "       col=c(\"red\",\"blue\",\"red\"), h=c(-limite,0,limite), lty=c(2,1,2))"
   ]
  },
  {
   "cell_type": "code",
   "execution_count": 86,
   "metadata": {
    "vscode": {
     "languageId": "r"
    }
   },
   "outputs": [
    {
     "data": {
      "image/png": "[encoded data removed]",
      "text/plain": [
       "plot without title"
      ]
     },
     "metadata": {
      "image/png": {
       "height": 420,
       "width": 420
      }
     },
     "output_type": "display_data"
    }
   ],
   "source": [
    "limite <- 2/sqrt(n)\n",
    "abline(plot(dfb2,ylab=\"DFBETA 2\"),\n",
    "       col=c(\"red\",\"blue\",\"red\"), h=c(-limite,0,limite), lty=c(2,1,2))"
   ]
  },
  {
   "cell_type": "code",
   "execution_count": 87,
   "metadata": {
    "vscode": {
     "languageId": "r"
    }
   },
   "outputs": [
    {
     "data": {
      "image/png": "[encoded data removed]",
      "text/plain": [
       "plot without title"
      ]
     },
     "metadata": {
      "image/png": {
       "height": 420,
       "width": 420
      }
     },
     "output_type": "display_data"
    }
   ],
   "source": [
    "limite <- 2/sqrt(n)\n",
    "abline(plot(dfb3,ylab=\"DFBETA 3\"),\n",
    "       col=c(\"red\",\"blue\",\"red\"), h=c(-limite,0,limite), lty=c(2,1,2))"
   ]
  },
  {
   "cell_type": "code",
   "execution_count": null,
   "metadata": {
    "vscode": {
     "languageId": "r"
    }
   },
   "outputs": [],
   "source": [
    "# distância de cook\n",
    "cooks.distance(fit)"
   ]
  },
  {
   "cell_type": "code",
   "execution_count": 65,
   "metadata": {
    "vscode": {
     "languageId": "r"
    }
   },
   "outputs": [],
   "source": [
    "limite <- 4/(n-fit$rank)"
   ]
  },
  {
   "cell_type": "code",
   "execution_count": 66,
   "metadata": {
    "vscode": {
     "languageId": "r"
    }
   },
   "outputs": [
    {
     "data": {
      "image/png": "[encoded data removed]",
      "text/plain": [
       "plot without title"
      ]
     },
     "metadata": {
      "image/png": {
       "height": 420,
       "width": 420
      }
     },
     "output_type": "display_data"
    }
   ],
   "source": [
    "abline(plot(cooks.distance(fit), ylab=\"Distancia de Cook\"),\n",
    "       col='red', h=limite, lty=2)"
   ]
  },
  {
   "cell_type": "code",
   "execution_count": 67,
   "metadata": {
    "vscode": {
     "languageId": "r"
    }
   },
   "outputs": [],
   "source": [
    "# residuo\n",
    "residuo <- rstudent(fit)"
   ]
  },
  {
   "cell_type": "code",
   "execution_count": 68,
   "metadata": {
    "vscode": {
     "languageId": "r"
    }
   },
   "outputs": [
    {
     "data": {
      "image/png": "[encoded data removed]",
      "text/plain": [
       "Plot with title \"Residuos\""
      ]
     },
     "metadata": {
      "image/png": {
       "height": 420,
       "width": 420
      }
     },
     "output_type": "display_data"
    }
   ],
   "source": [
    "plot(residuo, type='p', pch='+', main='Residuos', xlab='indices')\n",
    "abline(h=c(-2,0,2), lty=3)"
   ]
  },
  {
   "cell_type": "code",
   "execution_count": 69,
   "metadata": {
    "vscode": {
     "languageId": "r"
    }
   },
   "outputs": [
    {
     "data": {
      "image/png": "[encoded data removed]",
      "text/plain": [
       "Plot with title \"Histogram of residuo\""
      ]
     },
     "metadata": {
      "image/png": {
       "height": 420,
       "width": 420
      }
     },
     "output_type": "display_data"
    }
   ],
   "source": [
    "hist(residuo)"
   ]
  },
  {
   "cell_type": "markdown",
   "metadata": {},
   "source": [
    "Acima podemos observar que a distribuição dos resíduos se parece com uma normal"
   ]
  },
  {
   "cell_type": "code",
   "execution_count": 70,
   "metadata": {
    "vscode": {
     "languageId": "r"
    }
   },
   "outputs": [
    {
     "name": "stdout",
     "output_type": "stream",
     "text": [
      "Gaussian model (lm object) \n"
     ]
    },
    {
     "data": {
      "image/png": "[encoded data removed]",
      "text/plain": [
       "Plot with title \"\""
      ]
     },
     "metadata": {
      "image/png": {
       "height": 420,
       "width": 420
      }
     },
     "output_type": "display_data"
    }
   ],
   "source": [
    "# envelope simulado baseado nos residuos studentizados\n",
    "hnp(fit,resid.type =\"student\", halfnormal= F)"
   ]
  },
  {
   "cell_type": "markdown",
   "metadata": {
    "vscode": {
     "languageId": "r"
    }
   },
   "source": [
    "Acima no gráfico do envelope dos resíduos, temos eles \"studentizados\" e ordenados. Esse envelope são bandas de confiança e esperamos que pelo menos 90% dos resíduos estejam entre essas bandas. Essas bandas são feitas através de simulações de Monte Carlo.\n",
    "\n",
    "Esse envelope indica, principalmente, que a suposição distribucional está correta. Ou seja, a distribuição normal é correta para modelar esses dados."
   ]
  },
  {
   "cell_type": "markdown",
   "metadata": {},
   "source": [
    "### Testando as suposições do modelo"
   ]
  },
  {
   "cell_type": "markdown",
   "metadata": {},
   "source": [
    "- Suposições:\n",
    "    - [S0] O modelo está corretamente especificado;\n",
    "    - [S1] A média dos erros é zero;\n",
    "    - [S2] Homoscedasticidade dos erros;\n",
    "    - [S3] Não autocorrelação;\n",
    "    - [S4] Ausência de multicolinearidade;\n",
    "    - [S5] Normalidade dos erros."
   ]
  },
  {
   "cell_type": "code",
   "execution_count": 71,
   "metadata": {
    "vscode": {
     "languageId": "r"
    }
   },
   "outputs": [
    {
     "data": {
      "text/plain": [
       "\n",
       "\tRESET test\n",
       "\n",
       "data:  fit\n",
       "RESET = 0.15103, df1 = 2, df2 = 494, p-value = 0.8599\n"
      ]
     },
     "metadata": {},
     "output_type": "display_data"
    }
   ],
   "source": [
    "# teste para [s0]\n",
    "## H0: O modelo esta corretamente especificado\n",
    "resettest(fit)"
   ]
  },
  {
   "cell_type": "markdown",
   "metadata": {},
   "source": [
    "A hipótese nula não foi rejeitada"
   ]
  },
  {
   "cell_type": "code",
   "execution_count": 72,
   "metadata": {
    "vscode": {
     "languageId": "r"
    }
   },
   "outputs": [
    {
     "data": {
      "text/plain": [
       "\n",
       "\tOne Sample t-test\n",
       "\n",
       "data:  residuo\n",
       "t = -0.0023141, df = 499, p-value = 0.9982\n",
       "alternative hypothesis: true mean is not equal to 0\n",
       "95 percent confidence interval:\n",
       " -0.08823076  0.08802317\n",
       "sample estimates:\n",
       "    mean of x \n",
       "-0.0001037956 \n"
      ]
     },
     "metadata": {},
     "output_type": "display_data"
    }
   ],
   "source": [
    "# teste para [s1]\n",
    "## H0: Media dos erros e igual a zero\n",
    "t.test(residuo,mu=0,alternative = \"two.sided\")"
   ]
  },
  {
   "cell_type": "markdown",
   "metadata": {},
   "source": [
    "A hipótese nula não foi rejeitada"
   ]
  },
  {
   "cell_type": "code",
   "execution_count": 73,
   "metadata": {
    "vscode": {
     "languageId": "r"
    }
   },
   "outputs": [
    {
     "data": {
      "text/plain": [
       "\n",
       "\tstudentized Breusch-Pagan test\n",
       "\n",
       "data:  fit\n",
       "BP = 5.7894, df = 3, p-value = 0.1223\n"
      ]
     },
     "metadata": {},
     "output_type": "display_data"
    }
   ],
   "source": [
    "# teste para [s2] (teste de Bressch-Pagan(Koenker) de heteroscedasticidade)\n",
    "## H0: Erros sao homoscedasticos\n",
    "bptest(fit, studentize = TRUE)"
   ]
  },
  {
   "cell_type": "markdown",
   "metadata": {},
   "source": [
    "A hipótese nula não foi rejeitada"
   ]
  },
  {
   "cell_type": "code",
   "execution_count": 74,
   "metadata": {
    "vscode": {
     "languageId": "r"
    }
   },
   "outputs": [
    {
     "data": {
      "text/plain": [
       "\n",
       "\tDurbin-Watson test\n",
       "\n",
       "data:  fit\n",
       "DW = 1.8885, p-value = 0.1068\n",
       "alternative hypothesis: true autocorrelation is greater than 0\n"
      ]
     },
     "metadata": {},
     "output_type": "display_data"
    }
   ],
   "source": [
    "# teste para [s3] (teste de Durbin-Watson de autocorrelacao)\n",
    "## H0: Nao ha autocorrelacao\n",
    "dwtest(fit)"
   ]
  },
  {
   "cell_type": "markdown",
   "metadata": {},
   "source": [
    "A hipótese nula não foi rejeitada"
   ]
  },
  {
   "cell_type": "code",
   "execution_count": 75,
   "metadata": {
    "vscode": {
     "languageId": "r"
    }
   },
   "outputs": [
    {
     "data": {
      "text/html": [
       "<style>\n",
       ".dl-inline {width: auto; margin:0; padding: 0}\n",
       ".dl-inline>dt, .dl-inline>dd {float: none; width: auto; display: inline-block}\n",
       ".dl-inline>dt::after {content: \":\\0020\"; padding-right: .5ex}\n",
       ".dl-inline>dt:not(:first-of-type) {padding-left: .5ex}\n",
       "</style><dl class=dl-inline><dt>Avg..Session.Length</dt><dd>1.00452596341859</dd><dt>Time.on.App</dt><dd>1.00173054624077</dd><dt>Length.of.Membership</dt><dd>1.00460137055001</dd></dl>\n"
      ],
      "text/latex": [
       "\\begin{description*}\n",
       "\\item[Avg..Session.Length] 1.00452596341859\n",
       "\\item[Time.on.App] 1.00173054624077\n",
       "\\item[Length.of.Membership] 1.00460137055001\n",
       "\\end{description*}\n"
      ],
      "text/markdown": [
       "Avg..Session.Length\n",
       ":   1.00452596341859Time.on.App\n",
       ":   1.00173054624077Length.of.Membership\n",
       ":   1.00460137055001\n",
       "\n"
      ],
      "text/plain": [
       " Avg..Session.Length          Time.on.App Length.of.Membership \n",
       "            1.004526             1.001731             1.004601 "
      ]
     },
     "metadata": {},
     "output_type": "display_data"
    }
   ],
   "source": [
    "# teste para [s4] (usa fatores de inflacao de variancia para detectar multicolinearidade)\n",
    "## regra de bolso: vif > 10 indica multicolinearidade. vif = 1 seria o ideal\n",
    "vif(fit)"
   ]
  },
  {
   "cell_type": "markdown",
   "metadata": {},
   "source": [
    "Não apresentou multicolinearidade entre as covariáveis. Uma das possíveis já tinha tirado antes (tempo no site x tempo no app)"
   ]
  },
  {
   "cell_type": "code",
   "execution_count": 76,
   "metadata": {
    "vscode": {
     "languageId": "r"
    }
   },
   "outputs": [
    {
     "data": {
      "text/plain": [
       "\n",
       "\tJarque Bera Test\n",
       "\n",
       "data:  residuo\n",
       "X-squared = 0.20113, df = 2, p-value = 0.9043\n"
      ]
     },
     "metadata": {},
     "output_type": "display_data"
    }
   ],
   "source": [
    "# teste [s5] (teste Jarque-Bera de normalidade)\n",
    "## H0: Os erros possuem distribuicao normal\n",
    "jarque.bera.test(residuo) "
   ]
  },
  {
   "cell_type": "markdown",
   "metadata": {
    "vscode": {
     "languageId": "r"
    }
   },
   "source": [
    "A hipótese nula não foi rejeitada"
   ]
  },
  {
   "cell_type": "markdown",
   "metadata": {},
   "source": [
    "**Todas as suposições estão corretas.**"
   ]
  },
  {
   "cell_type": "markdown",
   "metadata": {},
   "source": [
    "### Interpretação do modelo"
   ]
  },
  {
   "cell_type": "code",
   "execution_count": 77,
   "metadata": {
    "vscode": {
     "languageId": "r"
    }
   },
   "outputs": [
    {
     "data": {
      "text/plain": [
       "\n",
       "Call:\n",
       "lm(formula = Yearly.Amount.Spent ~ Avg..Session.Length + Time.on.App + \n",
       "    Length.of.Membership, data = dados)\n",
       "\n",
       "Residuals:\n",
       "    Min      1Q  Median      3Q     Max \n",
       "-29.628  -6.378  -0.135   6.351  30.169 \n",
       "\n",
       "Coefficients:\n",
       "                       Estimate Std. Error t value Pr(>|t|)    \n",
       "(Intercept)          -1035.3396    15.9829  -64.78   <2e-16 ***\n",
       "Avg..Session.Length     25.7210     0.4508   57.05   <2e-16 ***\n",
       "Time.on.App             38.7460     0.4494   86.21   <2e-16 ***\n",
       "Length.of.Membership    61.5560     0.4478  137.46   <2e-16 ***\n",
       "---\n",
       "Signif. codes:  0 '***' 0.001 '**' 0.01 '*' 0.05 '.' 0.1 ' ' 1\n",
       "\n",
       "Residual standard error: 9.973 on 496 degrees of freedom\n",
       "Multiple R-squared:  0.9843,\tAdjusted R-squared:  0.9842 \n",
       "F-statistic: 1.036e+04 on 3 and 496 DF,  p-value: < 2.2e-16\n"
      ]
     },
     "metadata": {},
     "output_type": "display_data"
    }
   ],
   "source": [
    "summary(fit)"
   ]
  },
  {
   "cell_type": "markdown",
   "metadata": {},
   "source": [
    "meu modelo explica 98,43% da variabilidade de y, o resto é aleatoriedade"
   ]
  },
  {
   "cell_type": "markdown",
   "metadata": {},
   "source": [
    "$\\mu = \\beta_0 + \\beta_1 X Avg..Session.Length + \\beta_2 X Time.on.App + \\beta_3 X Length.of.Membership$\n",
    "\n",
    "- intercepto ou $\\beta_0$: - 1.035,3396, um gasto negativo sinalizando essa perda média quando não há clientes.\n",
    "- $\\beta_1$ X **Avg..Session.Length**: cada minuto há mais na seção indica um gasto de 25,7210 dólares em média do cliente.\n",
    "- $\\beta_2$ X **Time.on.App**: cada minuto no app indica um gasto médio de 38,7460 do cliente.\n",
    "- $\\beta_3$ X **Length.of.Membership**: o cliente com 1 ano de membro tem um gasto médio há mais de 61,5560"
   ]
  },
  {
   "cell_type": "markdown",
   "metadata": {},
   "source": [
    "### Predição"
   ]
  },
  {
   "cell_type": "code",
   "execution_count": 79,
   "metadata": {
    "vscode": {
     "languageId": "r"
    }
   },
   "outputs": [
    {
     "name": "stdout",
     "output_type": "stream",
     "text": [
      "33.05319 12.05249 3.533462 \n"
     ]
    }
   ],
   "source": [
    "m1 <- mean(dados$Avg..Session.Length)\n",
    "m2 <- mean(dados$Time.on.App)\n",
    "m3 <- mean(dados$Length.of.Membership)\n",
    "cat(m1, m2, m3, \"\\n\")"
   ]
  },
  {
   "cell_type": "code",
   "execution_count": 80,
   "metadata": {
    "vscode": {
     "languageId": "r"
    }
   },
   "outputs": [
    {
     "data": {
      "text/html": [
       "<strong>1:</strong> 499.314055029582"
      ],
      "text/latex": [
       "\\textbf{1:} 499.314055029582"
      ],
      "text/markdown": [
       "**1:** 499.314055029582"
      ],
      "text/plain": [
       "       1 \n",
       "499.3141 "
      ]
     },
     "metadata": {},
     "output_type": "display_data"
    }
   ],
   "source": [
    "# predicao com novos dados\n",
    "novos_dados <- data.frame(cbind(\n",
    "    Avg..Session.Length = 33.05319, Time.on.App = 12.05249, Length.of.Membership = 3.533462)\n",
    ")\n",
    "predict(fit, newdata=novos_dados)"
   ]
  },
  {
   "cell_type": "markdown",
   "metadata": {},
   "source": [
    "Na previsão acima, podemos observar que, se um cliente apresenta um tempo médio de sessão, tempo médio no aplicativo e possui três anos e meio como membro, ele tende a gastar aproximadamente 500 dólares por ano com o e-commerce."
   ]
  },
  {
   "cell_type": "markdown",
   "metadata": {},
   "source": [
    "### Retirando uma possível influência"
   ]
  },
  {
   "cell_type": "code",
   "execution_count": 81,
   "metadata": {
    "vscode": {
     "languageId": "r"
    }
   },
   "outputs": [
    {
     "data": {
      "text/html": [
       "<strong>261:</strong> 261"
      ],
      "text/latex": [
       "\\textbf{261:} 261"
      ],
      "text/markdown": [
       "**261:** 261"
      ],
      "text/plain": [
       "261 \n",
       "261 "
      ]
     },
     "metadata": {},
     "output_type": "display_data"
    }
   ],
   "source": [
    "outlier_cooks <- which(abs(cooks.distance(fit))>0.04)\n",
    "outlier_cooks"
   ]
  },
  {
   "cell_type": "markdown",
   "metadata": {},
   "source": [
    "Nos gráficos acima, tanto dos DFBETAs quanto da Distância de Cook, identifiquei um outlier significativo na observação 261. Pretendo remover essa observação para avaliar se ela realmente influencia os valores dos coeficientes do modelo."
   ]
  },
  {
   "cell_type": "code",
   "execution_count": 95,
   "metadata": {
    "vscode": {
     "languageId": "r"
    }
   },
   "outputs": [],
   "source": [
    "dados_261 <- dados[-261, ]"
   ]
  },
  {
   "cell_type": "code",
   "execution_count": 96,
   "metadata": {
    "vscode": {
     "languageId": "r"
    }
   },
   "outputs": [],
   "source": [
    "fit <- lm(Yearly.Amount.Spent~Avg..Session.Length+Time.on.App+Length.of.Membership,data=dados_261)"
   ]
  },
  {
   "cell_type": "code",
   "execution_count": 97,
   "metadata": {
    "vscode": {
     "languageId": "r"
    }
   },
   "outputs": [
    {
     "data": {
      "text/plain": [
       "\n",
       "Call:\n",
       "lm(formula = Yearly.Amount.Spent ~ Avg..Session.Length + Time.on.App + \n",
       "    Length.of.Membership, data = dados_261)\n",
       "\n",
       "Residuals:\n",
       "     Min       1Q   Median       3Q      Max \n",
       "-29.7756  -6.3414  -0.2313   6.3695  29.7970 \n",
       "\n",
       "Coefficients:\n",
       "                       Estimate Std. Error t value Pr(>|t|)    \n",
       "(Intercept)          -1040.6775    16.0018  -65.03   <2e-16 ***\n",
       "Avg..Session.Length     25.8342     0.4499   57.43   <2e-16 ***\n",
       "Time.on.App             38.8799     0.4493   86.54   <2e-16 ***\n",
       "Length.of.Membership    61.5671     0.4450  138.37   <2e-16 ***\n",
       "---\n",
       "Signif. codes:  0 '***' 0.001 '**' 0.01 '*' 0.05 '.' 0.1 ' ' 1\n",
       "\n",
       "Residual standard error: 9.909 on 495 degrees of freedom\n",
       "Multiple R-squared:  0.9844,\tAdjusted R-squared:  0.9843 \n",
       "F-statistic: 1.042e+04 on 3 and 495 DF,  p-value: < 2.2e-16\n"
      ]
     },
     "metadata": {},
     "output_type": "display_data"
    }
   ],
   "source": [
    "summary(fit)"
   ]
  },
  {
   "cell_type": "markdown",
   "metadata": {},
   "source": [
    "Notamos que houve uma diferença de 5 dólares no intercepto, porém não foi algo muito significativo nos demais."
   ]
  }
 ],
 "metadata": {
  "kernelspec": {
   "display_name": "R",
   "language": "R",
   "name": "ir"
  },
  "language_info": {
   "codemirror_mode": "r",
   "file_extension": ".r",
   "mimetype": "text/x-r-source",
   "name": "R",
   "pygments_lexer": "r",
   "version": "4.3.3"
  }
 },
 "nbformat": 4,
 "nbformat_minor": 2
}
